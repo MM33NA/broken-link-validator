{
 "cells": [
  {
   "cell_type": "markdown",
   "id": "53a7977c-3a3b-4b5a-966e-5b9f465ad75d",
   "metadata": {},
   "source": [
    "**TTILE: FPP NEWS CONTENT ANALYSIS (AUTOMATE URL CHECK)**\n",
    "\n",
    "**Analyst:** Meena Maharjan\n",
    "\n",
    "**Start Date - End date:** Feb 5, 2025 - Feb 6 2025\n",
    "\n",
    "**Updated on:** March 10, 2025 (Ran batch 3rd for 2024)\n",
    "\n",
    "**Description:** This exercise aimed to automate the URL check process to determine whether links were active or inactive. By developing an automated solution, we sought to improve the efficiency of URL verification, reducing the time and effort required for manual checks.\n"
   ]
  },
  {
   "cell_type": "code",
   "execution_count": 4,
   "id": "1455e30e-cbcf-481c-a5da-806a52064eb9",
   "metadata": {},
   "outputs": [],
   "source": [
    "#!pip install requests"
   ]
  },
  {
   "cell_type": "code",
   "execution_count": 5,
   "id": "6ba370ae-ce74-40c6-8b01-e87213d65da7",
   "metadata": {},
   "outputs": [],
   "source": [
    "import os  \n",
    "import pandas as pd  \n",
    "import requests\n",
    "from concurrent.futures import ThreadPoolExecutor"
   ]
  },
  {
   "cell_type": "code",
   "execution_count": 9,
   "id": "7dd58f3c-d7cd-4927-bcec-dd2001c66f9f",
   "metadata": {},
   "outputs": [],
   "source": [
    "os.chdir(r\"C:/Users/mmaha/projects/broken links\")"
   ]
  },
  {
   "cell_type": "code",
   "execution_count": 10,
   "id": "b7502bda-1593-447b-a518-03e6bae3b7e3",
   "metadata": {},
   "outputs": [
    {
     "name": "stdout",
     "output_type": "stream",
     "text": [
      "['.ipynb_checkpoints', 'broken links.ipynb']\n"
     ]
    }
   ],
   "source": [
    "#os.getcwd()\n",
    "print(os.listdir())"
   ]
  },
  {
   "cell_type": "code",
   "execution_count": 11,
   "id": "18c71901-6d52-41fa-b9fa-5ce4042ca38a",
   "metadata": {},
   "outputs": [
    {
     "ename": "FileNotFoundError",
     "evalue": "[Errno 2] No such file or directory: '2024 without duplicates by URL and Title match.xls'",
     "output_type": "error",
     "traceback": [
      "\u001b[1;31m---------------------------------------------------------------------------\u001b[0m",
      "\u001b[1;31mFileNotFoundError\u001b[0m                         Traceback (most recent call last)",
      "Cell \u001b[1;32mIn[11], line 1\u001b[0m\n\u001b[1;32m----> 1\u001b[0m df \u001b[38;5;241m=\u001b[39m pd\u001b[38;5;241m.\u001b[39mread_excel(\u001b[38;5;124m'\u001b[39m\u001b[38;5;124m2024 without duplicates by URL and Title match.xls\u001b[39m\u001b[38;5;124m'\u001b[39m)\n",
      "File \u001b[1;32m~\\anaconda3\\Lib\\site-packages\\pandas\\io\\excel\\_base.py:495\u001b[0m, in \u001b[0;36mread_excel\u001b[1;34m(io, sheet_name, header, names, index_col, usecols, dtype, engine, converters, true_values, false_values, skiprows, nrows, na_values, keep_default_na, na_filter, verbose, parse_dates, date_parser, date_format, thousands, decimal, comment, skipfooter, storage_options, dtype_backend, engine_kwargs)\u001b[0m\n\u001b[0;32m    493\u001b[0m \u001b[38;5;28;01mif\u001b[39;00m \u001b[38;5;129;01mnot\u001b[39;00m \u001b[38;5;28misinstance\u001b[39m(io, ExcelFile):\n\u001b[0;32m    494\u001b[0m     should_close \u001b[38;5;241m=\u001b[39m \u001b[38;5;28;01mTrue\u001b[39;00m\n\u001b[1;32m--> 495\u001b[0m     io \u001b[38;5;241m=\u001b[39m ExcelFile(\n\u001b[0;32m    496\u001b[0m         io,\n\u001b[0;32m    497\u001b[0m         storage_options\u001b[38;5;241m=\u001b[39mstorage_options,\n\u001b[0;32m    498\u001b[0m         engine\u001b[38;5;241m=\u001b[39mengine,\n\u001b[0;32m    499\u001b[0m         engine_kwargs\u001b[38;5;241m=\u001b[39mengine_kwargs,\n\u001b[0;32m    500\u001b[0m     )\n\u001b[0;32m    501\u001b[0m \u001b[38;5;28;01melif\u001b[39;00m engine \u001b[38;5;129;01mand\u001b[39;00m engine \u001b[38;5;241m!=\u001b[39m io\u001b[38;5;241m.\u001b[39mengine:\n\u001b[0;32m    502\u001b[0m     \u001b[38;5;28;01mraise\u001b[39;00m \u001b[38;5;167;01mValueError\u001b[39;00m(\n\u001b[0;32m    503\u001b[0m         \u001b[38;5;124m\"\u001b[39m\u001b[38;5;124mEngine should not be specified when passing \u001b[39m\u001b[38;5;124m\"\u001b[39m\n\u001b[0;32m    504\u001b[0m         \u001b[38;5;124m\"\u001b[39m\u001b[38;5;124man ExcelFile - ExcelFile already has the engine set\u001b[39m\u001b[38;5;124m\"\u001b[39m\n\u001b[0;32m    505\u001b[0m     )\n",
      "File \u001b[1;32m~\\anaconda3\\Lib\\site-packages\\pandas\\io\\excel\\_base.py:1550\u001b[0m, in \u001b[0;36mExcelFile.__init__\u001b[1;34m(self, path_or_buffer, engine, storage_options, engine_kwargs)\u001b[0m\n\u001b[0;32m   1548\u001b[0m     ext \u001b[38;5;241m=\u001b[39m \u001b[38;5;124m\"\u001b[39m\u001b[38;5;124mxls\u001b[39m\u001b[38;5;124m\"\u001b[39m\n\u001b[0;32m   1549\u001b[0m \u001b[38;5;28;01melse\u001b[39;00m:\n\u001b[1;32m-> 1550\u001b[0m     ext \u001b[38;5;241m=\u001b[39m inspect_excel_format(\n\u001b[0;32m   1551\u001b[0m         content_or_path\u001b[38;5;241m=\u001b[39mpath_or_buffer, storage_options\u001b[38;5;241m=\u001b[39mstorage_options\n\u001b[0;32m   1552\u001b[0m     )\n\u001b[0;32m   1553\u001b[0m     \u001b[38;5;28;01mif\u001b[39;00m ext \u001b[38;5;129;01mis\u001b[39;00m \u001b[38;5;28;01mNone\u001b[39;00m:\n\u001b[0;32m   1554\u001b[0m         \u001b[38;5;28;01mraise\u001b[39;00m \u001b[38;5;167;01mValueError\u001b[39;00m(\n\u001b[0;32m   1555\u001b[0m             \u001b[38;5;124m\"\u001b[39m\u001b[38;5;124mExcel file format cannot be determined, you must specify \u001b[39m\u001b[38;5;124m\"\u001b[39m\n\u001b[0;32m   1556\u001b[0m             \u001b[38;5;124m\"\u001b[39m\u001b[38;5;124man engine manually.\u001b[39m\u001b[38;5;124m\"\u001b[39m\n\u001b[0;32m   1557\u001b[0m         )\n",
      "File \u001b[1;32m~\\anaconda3\\Lib\\site-packages\\pandas\\io\\excel\\_base.py:1402\u001b[0m, in \u001b[0;36minspect_excel_format\u001b[1;34m(content_or_path, storage_options)\u001b[0m\n\u001b[0;32m   1399\u001b[0m \u001b[38;5;28;01mif\u001b[39;00m \u001b[38;5;28misinstance\u001b[39m(content_or_path, \u001b[38;5;28mbytes\u001b[39m):\n\u001b[0;32m   1400\u001b[0m     content_or_path \u001b[38;5;241m=\u001b[39m BytesIO(content_or_path)\n\u001b[1;32m-> 1402\u001b[0m \u001b[38;5;28;01mwith\u001b[39;00m get_handle(\n\u001b[0;32m   1403\u001b[0m     content_or_path, \u001b[38;5;124m\"\u001b[39m\u001b[38;5;124mrb\u001b[39m\u001b[38;5;124m\"\u001b[39m, storage_options\u001b[38;5;241m=\u001b[39mstorage_options, is_text\u001b[38;5;241m=\u001b[39m\u001b[38;5;28;01mFalse\u001b[39;00m\n\u001b[0;32m   1404\u001b[0m ) \u001b[38;5;28;01mas\u001b[39;00m handle:\n\u001b[0;32m   1405\u001b[0m     stream \u001b[38;5;241m=\u001b[39m handle\u001b[38;5;241m.\u001b[39mhandle\n\u001b[0;32m   1406\u001b[0m     stream\u001b[38;5;241m.\u001b[39mseek(\u001b[38;5;241m0\u001b[39m)\n",
      "File \u001b[1;32m~\\anaconda3\\Lib\\site-packages\\pandas\\io\\common.py:882\u001b[0m, in \u001b[0;36mget_handle\u001b[1;34m(path_or_buf, mode, encoding, compression, memory_map, is_text, errors, storage_options)\u001b[0m\n\u001b[0;32m    873\u001b[0m         handle \u001b[38;5;241m=\u001b[39m \u001b[38;5;28mopen\u001b[39m(\n\u001b[0;32m    874\u001b[0m             handle,\n\u001b[0;32m    875\u001b[0m             ioargs\u001b[38;5;241m.\u001b[39mmode,\n\u001b[1;32m   (...)\u001b[0m\n\u001b[0;32m    878\u001b[0m             newline\u001b[38;5;241m=\u001b[39m\u001b[38;5;124m\"\u001b[39m\u001b[38;5;124m\"\u001b[39m,\n\u001b[0;32m    879\u001b[0m         )\n\u001b[0;32m    880\u001b[0m     \u001b[38;5;28;01melse\u001b[39;00m:\n\u001b[0;32m    881\u001b[0m         \u001b[38;5;66;03m# Binary mode\u001b[39;00m\n\u001b[1;32m--> 882\u001b[0m         handle \u001b[38;5;241m=\u001b[39m \u001b[38;5;28mopen\u001b[39m(handle, ioargs\u001b[38;5;241m.\u001b[39mmode)\n\u001b[0;32m    883\u001b[0m     handles\u001b[38;5;241m.\u001b[39mappend(handle)\n\u001b[0;32m    885\u001b[0m \u001b[38;5;66;03m# Convert BytesIO or file objects passed with an encoding\u001b[39;00m\n",
      "\u001b[1;31mFileNotFoundError\u001b[0m: [Errno 2] No such file or directory: '2024 without duplicates by URL and Title match.xls'"
     ]
    }
   ],
   "source": [
    "df = pd.read_excel('2024 without duplicates by URL and Title match.xls')"
   ]
  },
  {
   "cell_type": "code",
   "execution_count": null,
   "id": "7a2f3456-3003-48d4-a3d8-cf2aaf554ea6",
   "metadata": {},
   "outputs": [],
   "source": [
    "df.tail()"
   ]
  },
  {
   "cell_type": "code",
   "execution_count": null,
   "id": "07aaf04a-8ace-454c-bf5d-5ce664632164",
   "metadata": {},
   "outputs": [],
   "source": [
    "# Function to check URL status\n",
    "def check_url(URL):\n",
    "    try:\n",
    "        response = requests.get(URL, allow_redirects=True, timeout=10)\n",
    "        if response.status_code == 200:\n",
    "            return \"Working\"\n",
    "        elif response.status_code in [301, 302]:  \n",
    "            return \"Redirected but Working\"\n",
    "        elif response.status_code == 403:  \n",
    "            return \"Blocked (403 Forbidden)\"\n",
    "        else:\n",
    "            return f\"Not Working ({response.status_code})\"\n",
    "    except requests.RequestException as e:\n",
    "        return f\"Not Working ({str(e)})\"\n",
    "\n",
    "# Apply ThreadPoolExecutor for faster execution\n",
    "with ThreadPoolExecutor(max_workers=10) as executor:\n",
    "    df['Status'] = list(executor.map(check_url, df['URL']))\n",
    "\n",
    "# Export to Excel\n",
    "df.to_excel(\"url_status_2024.xlsx\", index=False)\n",
    "\n",
    "# Print the DataFrame\n",
    "df"
   ]
  },
  {
   "cell_type": "code",
   "execution_count": null,
   "id": "c7d93593-f6ff-494d-9100-5808ea7cb1f6",
   "metadata": {},
   "outputs": [],
   "source": [
    "df.to_excel(\"url_status_2024.xlsx\", index=False)"
   ]
  },
  {
   "cell_type": "markdown",
   "id": "21704425-7285-45fe-b19f-79b7c8d40291",
   "metadata": {},
   "source": [
    "**ERROR description**\n",
    "\n",
    "If response.status_code == 200, then the URL is considered \"Working\" in your script.\n",
    "\n",
    "301 Moved Permanently → The URL has changed permanently, and future requests should use the new URL.\n",
    "\n",
    "302 Found (Temporary Redirect): The resource is temporarily moved to another location.\n",
    "\n",
    "HTTP 403 (Forbidden) → \"Blocked (403 Forbidden)\"\n",
    "- Possible causes:\n",
    "- Website blocks automated requests (bot protection).\n",
    "- Missing authentication or permission.\n",
    "- IP restrictions.\n",
    "\n",
    "404 Not Found -> The requested URL does not exist.\n",
    "  \n",
    "500 Internal Server Error -> The server encountered an error.\n",
    "\n",
    "405 Method Not Allowed -> The request method is not supported by the server.\n",
    "\n",
    "503 Service Unavailable -> The server is down or overloaded.\n"
   ]
  },
  {
   "cell_type": "markdown",
   "id": "2c447abc-3ee1-4b8f-9fbd-fff488c984b4",
   "metadata": {},
   "source": [
    "## Rough codes below this: "
   ]
  },
  {
   "cell_type": "raw",
   "id": "8578f556-b594-435b-ab79-dbd87d347c21",
   "metadata": {},
   "source": [
    "# Function to check URL status\n",
    "def check_url(URL):\n",
    "    try:\n",
    "        response = requests.head(URL, allow_redirects=True, timeout=5)\n",
    "        return \"Working\" if response.status_code == 200 else \"Not Working\"\n",
    "    except requests.RequestException:\n",
    "        return \"Not Working\"\n",
    "\n",
    "# Apply ThreadPoolExecutor for fast parallel processing\n",
    "with ThreadPoolExecutor(max_workers=10) as executor:\n",
    "    df['Status'] = list(executor.map(check_url, df['URL']))\n",
    "\n",
    "#df"
   ]
  }
 ],
 "metadata": {
  "kernelspec": {
   "display_name": "Python 3 (ipykernel)",
   "language": "python",
   "name": "python3"
  },
  "language_info": {
   "codemirror_mode": {
    "name": "ipython",
    "version": 3
   },
   "file_extension": ".py",
   "mimetype": "text/x-python",
   "name": "python",
   "nbconvert_exporter": "python",
   "pygments_lexer": "ipython3",
   "version": "3.12.7"
  }
 },
 "nbformat": 4,
 "nbformat_minor": 5
}
